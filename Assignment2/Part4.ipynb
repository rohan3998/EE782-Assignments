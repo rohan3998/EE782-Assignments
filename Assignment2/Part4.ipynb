{
  "nbformat": 4,
  "nbformat_minor": 0,
  "metadata": {
    "colab": {
      "name": "EE782_Assm2_Part4.ipynb",
      "provenance": [],
      "collapsed_sections": []
    },
    "kernelspec": {
      "name": "python3",
      "display_name": "Python 3"
    },
    "accelerator": "GPU"
  },
  "cells": [
    {
      "cell_type": "code",
      "metadata": {
        "id": "BBmFkBBRq9xw"
      },
      "source": [
        "import torch\n",
        "import torch.nn as nn\n",
        "import torch.nn.functional as F\n",
        "import torch.optim as optim\n",
        "from torch.autograd import Variable\n",
        "\n",
        "from torchtext import data\n",
        "from torchtext import datasets\n",
        "\n",
        "import numpy as np\n",
        "from sklearn.model_selection import KFold \n",
        "\n",
        "import time\n",
        "import random"
      ],
      "execution_count": 1,
      "outputs": []
    },
    {
      "cell_type": "code",
      "metadata": {
        "id": "KDJQ2YQnrenj"
      },
      "source": [
        "SEED = 1234\n",
        "\n",
        "# We have looked at https://github.com/bentrevett/pytorch-sentiment-analysis for setting the various values of TEXT and LABEL as we have not worked with this before till now.\n",
        "\n",
        "torch.manual_seed(SEED)\n",
        "torch.backends.cudnn.deterministic = True\n",
        "TEXT = data.Field(tokenize = 'spacy', include_lengths = True)\n",
        "LABEL = data.LabelField(dtype = torch.float)"
      ],
      "execution_count": 2,
      "outputs": []
    },
    {
      "cell_type": "code",
      "metadata": {
        "id": "-X8KmFVirf6D",
        "colab": {
          "base_uri": "https://localhost:8080/"
        },
        "outputId": "c76bd3d0-a69d-435f-97e4-a3a67f986fc7"
      },
      "source": [
        "train_data, _ = datasets.IMDB.splits(TEXT, LABEL)                                   #split the data into training and test data\n",
        "train_data, val_data= train_data.split(split_ratio=0.8, random_state=random.seed(SEED))     #split training data into training and validation data\n",
        "\n",
        "print(f'Number of training examples: {len(train_data)}')\n",
        "print(f'Number of validation examples: {len(val_data)}')\n"
      ],
      "execution_count": null,
      "outputs": [
        {
          "output_type": "stream",
          "text": [
            "aclImdb_v1.tar.gz:   0%|          | 98.3k/84.1M [00:00<01:27, 963kB/s]"
          ],
          "name": "stderr"
        },
        {
          "output_type": "stream",
          "text": [
            "downloading aclImdb_v1.tar.gz\n"
          ],
          "name": "stdout"
        },
        {
          "output_type": "stream",
          "text": [
            "aclImdb_v1.tar.gz: 100%|██████████| 84.1M/84.1M [00:01<00:00, 51.0MB/s]\n"
          ],
          "name": "stderr"
        }
      ]
    },
    {
      "cell_type": "code",
      "metadata": {
        "id": "NsOQ36DNH2S_",
        "colab": {
          "base_uri": "https://localhost:8080/"
        },
        "outputId": "0e94fc7b-1db9-454d-b2fc-5c4b0a21ce08"
      },
      "source": [
        "# Testing data from SST dataset\n",
        "_ , _ , test_data = datasets.SST.splits(TEXT, LABEL)\n",
        "\n",
        "print(f'Number of testing examples: {len(test_data)}')"
      ],
      "execution_count": null,
      "outputs": [
        {
          "output_type": "stream",
          "text": [
            "downloading trainDevTestTrees_PTB.zip\n"
          ],
          "name": "stdout"
        },
        {
          "output_type": "stream",
          "text": [
            "trainDevTestTrees_PTB.zip: 100%|██████████| 790k/790k [00:00<00:00, 1.08MB/s]\n"
          ],
          "name": "stderr"
        },
        {
          "output_type": "stream",
          "text": [
            "extracting\n",
            "Number of testing examples: 2210\n"
          ],
          "name": "stdout"
        }
      ]
    },
    {
      "cell_type": "code",
      "metadata": {
        "id": "zIiN3aVQsIcC"
      },
      "source": [
        "device = torch.device('cuda' if torch.cuda.is_available() else 'cpu')"
      ],
      "execution_count": null,
      "outputs": []
    },
    {
      "cell_type": "code",
      "metadata": {
        "id": "382b8Vvv82CJ",
        "colab": {
          "base_uri": "https://localhost:8080/"
        },
        "outputId": "143ed59c-14d6-494c-b9bf-b0b38a920e0d"
      },
      "source": [
        "print(vars(train_data.examples[0]))"
      ],
      "execution_count": null,
      "outputs": [
        {
          "output_type": "stream",
          "text": [
            "{'text': ['So', 'you', 'might', 'be', 'reading', 'some', 'of', 'the', 'comments', 'posted', 'on', 'this', 'film', ',', 'and', 'you', 'might', 'be', 'thinking', 'to', 'yourself', ',', '\"', 'Huh', '.', 'There', 'were', 'sure', 'a', 'bunch', 'of', 'RAVE', 'REVIEWS', 'posted', 'on', 'December', '30', '.', '\"', 'Funny', 'thing', 'is', ',', 'most', 'of', 'these', 'rave', 'reviews', 'sound', 'like', 'they', \"'re\", 'coming', 'from', 'the', 'same', 'person', ',', 'or', 'at', 'best', 'a', 'small', ',', 'coordinated', 'group', 'of', '\"', 'Open', 'House', '\"', 'groupies', '.', 'The', 'truth', ',', 'my', 'friends', ',', 'is', 'that', 'this', 'film', 'is', 'truly', 'unwatchable', '.', 'Just', 'because', 'it', \"'s\", '\"', 'independent', '\"', 'does', \"n't\", 'mean', 'it', 'gets', 'a', 'free', 'pass', '.', 'If', 'you', \"'re\", 'going', 'to', 'make', 'a', 'musical', ',', 'whether', 'on', 'film', 'or', 'on', 'stage', ',', 'whether', 'on', 'Broadway', 'or', 'at', 'the', 'local', 'community', 'playhouse', ',', 'you', 'should', 'probably', 'make', 'sure', 'that', '(', 'a.', ')', 'your', 'actors', 'can', 'sing', ',', '(', 'b.', ')', 'your', 'actors', 'can', 'dance', ',', '(', 'c.', ')', 'you', 'have', 'decent', 'sound', 'equipment', ',', '(', 'd.', ')', 'you', 'have', 'a', 'well', '-', 'written', 'score', ',', 'and', '(', 'e.', ')', 'you', 'have', 'lyrics', 'that', 'are', 'witty', 'and', 'charming', '.', 'Even', 'Anthony', 'Rapp', 'ca', \"n't\", 'save', 'this', 'one', '.', 'It', \"'s\", 'one', 'of', 'those', 'unfortunate', 'movie', '-', 'going', 'experiences', 'where', 'I', 'actually', 'felt', 'deeply', 'embarrassed', 'for', 'everyone', 'involved', '.'], 'label': 'neg'}\n"
          ],
          "name": "stdout"
        }
      ]
    },
    {
      "cell_type": "code",
      "metadata": {
        "id": "2S3m8awz9iLV",
        "colab": {
          "base_uri": "https://localhost:8080/"
        },
        "outputId": "02d27bed-8c0e-447d-864c-b66e2bbac461"
      },
      "source": [
        "MAX_VOCAB_SIZE = 50000 #consider only the top 50000 used words to build vocabulary/embeddings\n",
        "\n",
        "TEXT.build_vocab(train_data, max_size = MAX_VOCAB_SIZE, vectors = \"glove.6B.100d\", \n",
        "                 unk_init = torch.Tensor.normal_)\n",
        "LABEL.build_vocab(train_data)\n",
        "\n",
        "print(f\"Unique tokens in TEXT vocabulary: {len(TEXT.vocab)}\")\n",
        "print(f\"Unique tokens in LABEL vocabulary: {len(LABEL.vocab)}\")"
      ],
      "execution_count": null,
      "outputs": [
        {
          "output_type": "stream",
          "text": [
            ".vector_cache/glove.6B.zip: 862MB [06:29, 2.22MB/s]                          \n",
            "100%|█████████▉| 399273/400000 [00:17<00:00, 22804.14it/s]"
          ],
          "name": "stderr"
        },
        {
          "output_type": "stream",
          "text": [
            "Unique tokens in TEXT vocabulary: 50002\n",
            "Unique tokens in LABEL vocabulary: 2\n"
          ],
          "name": "stdout"
        }
      ]
    },
    {
      "cell_type": "code",
      "metadata": {
        "id": "JOwuAZqI_XEy",
        "colab": {
          "base_uri": "https://localhost:8080/"
        },
        "outputId": "ff16e247-5f04-4663-c1ae-81d0b536385f"
      },
      "source": [
        "print(TEXT.vocab.freqs.most_common(20))"
      ],
      "execution_count": null,
      "outputs": [
        {
          "output_type": "stream",
          "text": [
            "[('the', 231460), (',', 220381), ('.', 189521), ('and', 125033), ('a', 124956), ('of', 115251), ('to', 107051), ('is', 87411), ('in', 69978), ('I', 62093), ('it', 61264), ('that', 56349), ('\"', 50913), (\"'s\", 49710), ('this', 48489), ('-', 42042), ('/><br', 40743), ('was', 40065), ('as', 34656), ('with', 34180)]\n"
          ],
          "name": "stdout"
        }
      ]
    },
    {
      "cell_type": "code",
      "metadata": {
        "id": "T7X4a_K6_Zfi",
        "colab": {
          "base_uri": "https://localhost:8080/"
        },
        "outputId": "abe55917-87f2-47e0-ae90-7a1ee32e0467"
      },
      "source": [
        "print(TEXT.vocab.itos[:10])"
      ],
      "execution_count": null,
      "outputs": [
        {
          "output_type": "stream",
          "text": [
            "['<unk>', '<pad>', 'the', ',', '.', 'and', 'a', 'of', 'to', 'is']\n"
          ],
          "name": "stdout"
        }
      ]
    },
    {
      "cell_type": "code",
      "metadata": {
        "id": "phFOPzBx_d1Z",
        "colab": {
          "base_uri": "https://localhost:8080/"
        },
        "outputId": "52c29e5b-4afe-45e7-e56c-420af7103cfb"
      },
      "source": [
        "print(LABEL.vocab.stoi)"
      ],
      "execution_count": null,
      "outputs": [
        {
          "output_type": "stream",
          "text": [
            "defaultdict(<function _default_unk_index at 0x7f1302a3a510>, {'neg': 0, 'pos': 1})\n"
          ],
          "name": "stdout"
        }
      ]
    },
    {
      "cell_type": "code",
      "metadata": {
        "id": "ydAQRynr_isw"
      },
      "source": [
        "BATCH_SIZE = 64\n",
        "\n",
        "train_iterator, val_iterator, test_iterator = data.BucketIterator.splits(\n",
        "    (train_data, val_data, test_data), \n",
        "    batch_size = BATCH_SIZE,\n",
        "    sort_within_batch = True,\n",
        "    device = device)"
      ],
      "execution_count": null,
      "outputs": []
    },
    {
      "cell_type": "code",
      "metadata": {
        "id": "MF--D-e8_pVw"
      },
      "source": [
        "#This model has been built from scratch without using the links provided in the doc. The basic framework is taken from https://pytorch.org/tutorials/beginner/nlp/sequence_models_tutorial.html\n",
        "\n",
        "class BiLSTM(nn.Module):\n",
        "    def __init__(self,input_dim,embedding_dim,hidden_dim,output_dim,n_layers,bidirectional,dropout,pad_idx):\n",
        "        super().__init__()\n",
        "\n",
        "        self.embedding=nn.Embedding(input_dim,embedding_dim,padding_idx=pad_idx)\n",
        "\n",
        "        self.lstm=nn.LSTM(embedding_dim, hidden_dim,num_layers=n_layers,bidirectional=bidirectional,dropout=dropout if n_layers>1 else 0)\n",
        "\n",
        "        #self.gru=nn.GRU(embedding_dim, hidden_dim,num_layers=n_layers,bidirectional=bidirectional,dropout=dropout if n_layers>1 else 0)\n",
        "\n",
        "        self.fc=nn.Linear(hidden_dim, output_dim)\n",
        "\n",
        "        self.dropout=nn.Dropout(dropout)\n",
        "\n",
        "    def forward(self,text,text_lengths):\n",
        "        embed=self.embedding(text)\n",
        "        #text_lengths = torch.as_tensor(text_lengths, dtype=torch.int64, device='cpu')\n",
        "        #packed_embedded = nn.utils.rnn.pack_padded_sequence(embed, text_lengths) uncomment to introduce padding of sequence\n",
        "        #packed_output, (hidden, cell) = self.lstm(packed_embedded)               uncomment to train lstm with padding\n",
        "        #packed_output, (hidden, cell) = self.gru(packed_embedded)                uncomment to train gru with padding\n",
        "        output, (hidden,cell) = self.lstm(embed)  \n",
        "        #output, hidden = self.gru(embed)                                         uncomment for normal gru\n",
        "        #output, output_lengths = nn.utils.rnn.pad_packed_sequence(packed_output) uncomment if using padding\n",
        "        #print(hidden.shape)\n",
        "        hidden=self.dropout(hidden)\n",
        "        #hidden = self.dropout(torch.cat((hidden[-2,:,:], hidden[-1,:,:]), dim = 1)) uncomment if using bidirectional lstm only (not gru)\n",
        "        return self.fc(hidden)"
      ],
      "execution_count": null,
      "outputs": []
    },
    {
      "cell_type": "code",
      "metadata": {
        "id": "aKG_ZhiBBTCm",
        "colab": {
          "base_uri": "https://localhost:8080/"
        },
        "outputId": "64a3917e-374f-410c-cc96-c0e5bf13752e"
      },
      "source": [
        "INPUT_DIM = len(TEXT.vocab)\n",
        "EMBEDDING_DIM = 100\n",
        "HIDDEN_DIM = 256\n",
        "OUTPUT_DIM=1\n",
        "#OUTPUT_DIM = len(LABEL.vocab)\n",
        "N_LAYERS = 1\n",
        "BIDIRECTIONAL = False #keep true if using bidirectional GRU/LSTM\n",
        "DROPOUT = 0.5\n",
        "PAD_IDX = TEXT.vocab.stoi[TEXT.pad_token]\n",
        "print(INPUT_DIM)\n",
        "print(OUTPUT_DIM)"
      ],
      "execution_count": null,
      "outputs": [
        {
          "output_type": "stream",
          "text": [
            "50002\n",
            "1\n"
          ],
          "name": "stdout"
        }
      ]
    },
    {
      "cell_type": "code",
      "metadata": {
        "id": "f02HdLKXCO8J",
        "colab": {
          "base_uri": "https://localhost:8080/"
        },
        "outputId": "17d9af2a-7c2d-4de4-a244-8edde2fec3f6"
      },
      "source": [
        "model=BiLSTM(INPUT_DIM,EMBEDDING_DIM,HIDDEN_DIM,OUTPUT_DIM,N_LAYERS,BIDIRECTIONAL,DROPOUT,PAD_IDX)\n",
        "model.to(device)\n",
        "optimizer = optim.Adam(model.parameters(), lr=0.001)\n",
        "#loss_function = nn.NLLLoss()\n",
        "loss_function=nn.BCEWithLogitsLoss()\n",
        "loss_function.to(device)"
      ],
      "execution_count": null,
      "outputs": [
        {
          "output_type": "execute_result",
          "data": {
            "text/plain": [
              "BCEWithLogitsLoss()"
            ]
          },
          "metadata": {
            "tags": []
          },
          "execution_count": 16
        }
      ]
    },
    {
      "cell_type": "code",
      "metadata": {
        "id": "q5IM1dPTR7hm"
      },
      "source": [
        "#model.embedding.weight.data.copy_(pretrained_embeddings)"
      ],
      "execution_count": null,
      "outputs": []
    },
    {
      "cell_type": "code",
      "metadata": {
        "id": "kpF7UCKPwlPv"
      },
      "source": [
        "# We have used this function directly from https://github.com/bentrevett/pytorch-sentiment-analysis but there is nothing new about this as this is a standard implementation\n",
        "\n",
        "def binary_accuracy(preds, y):\n",
        "    \"\"\"\n",
        "    Returns accuracy per batch, i.e. if you get 8/10 right, this returns 0.8, NOT 8\n",
        "    \"\"\"\n",
        "\n",
        "    #round predictions to the closest integer\n",
        "    rounded_preds = torch.round(torch.sigmoid(preds))\n",
        "    correct = (rounded_preds == y).float() #convert into float for division \n",
        "    acc = correct.sum() / len(correct)\n",
        "    return acc"
      ],
      "execution_count": null,
      "outputs": []
    },
    {
      "cell_type": "code",
      "metadata": {
        "id": "5wVoRY58DpCv"
      },
      "source": [
        "def epoch_time(start_time, end_time):\n",
        "    elapsed_time = end_time - start_time\n",
        "    elapsed_mins = int(elapsed_time / 60)\n",
        "    elapsed_secs = int(elapsed_time - (elapsed_mins * 60))\n",
        "    return elapsed_mins, elapsed_secs"
      ],
      "execution_count": null,
      "outputs": []
    },
    {
      "cell_type": "code",
      "metadata": {
        "id": "wiJ89QiXCz2L"
      },
      "source": [
        "num_epochs=30\n",
        "\n",
        "trainloss=[]\n",
        "trainacc=[]\n",
        "valacc=[]\n",
        "valloss=[]\n",
        "testacc=[]\n",
        "testloss=[]\n",
        "\n",
        "\n",
        "#We have used the training and testing loops based on the pytorch link mentioned before. Few changes are there for dimension matching etc.\n",
        "\n",
        "for epoch in range(num_epochs):\n",
        "  start_time=time.time()\n",
        "  model.train()\n",
        "\n",
        "\n",
        "################################################ TRAINING ################################################\n",
        "\n",
        "  train_acc=0\n",
        "  train_loss=0\n",
        "  for batch in train_iterator:\n",
        "    model.zero_grad()\n",
        "    #print(batch.text.shape)\n",
        "    text, text_lengths= batch.text\n",
        "    #print(sentiment.shape)\n",
        "    sentiment=model(text, text_lengths).squeeze(1)\n",
        "    sentiment=torch.reshape(sentiment,(len(batch.label),))\n",
        "    #print(sentiment.shape)\n",
        "    #print(batch.label.shape)\n",
        "    loss=loss_function(sentiment,batch.label)\n",
        "    loss.backward()\n",
        "    optimizer.step()\n",
        "    train_loss=train_loss+loss.item()\n",
        "    #_,indices=torch.max(sentiment,1)\n",
        "    #train_acc=train_acc+torch.mean(torch.tensor(batch.label == indices, dtype=torch.float))\n",
        "    train_acc=train_acc+binary_accuracy(sentiment, batch.label)\n",
        "\n",
        "  train_loss=train_loss/len(train_iterator)\n",
        "  train_acc=train_acc/len(train_iterator)\n",
        "  trainloss.append(float(train_loss))\n",
        "  trainacc.append(float(train_acc))\n",
        "\n",
        "  val_acc=0\n",
        "  val_loss=0\n",
        "  model.eval()\n",
        "\n",
        "\n",
        "############################################################# VALIDATION/TEST ###############################################\n",
        "\n",
        "\n",
        "  with torch.no_grad():\n",
        "    for batch in val_iterator:\n",
        "      text, text_lengths= batch.text\n",
        "      text_lengths = torch.as_tensor(text_lengths, dtype=torch.int64, device='cpu')\n",
        "      prediction=model(text, text_lengths).squeeze(1)\n",
        "      prediction=torch.reshape(prediction,(len(batch.label),))\n",
        "      val_loss=val_loss+loss_function(prediction,batch.label).item()\n",
        "      #_,indices=torch.max(prediction,1)\n",
        "      #val_acc=val_acc+torch.mean(torch.tensor(batch.label == indices, dtype=torch.float))\n",
        "      val_acc=val_acc+binary_accuracy(prediction, batch.label)\n",
        "  val_loss=val_loss/len(val_iterator)\n",
        "  val_acc=val_acc/len(val_iterator)\n",
        "  valloss.append(float(val_loss))\n",
        "  valacc.append(float(val_acc))\n",
        "\n",
        "\n",
        "  test_acc=0\n",
        "  test_loss=0\n",
        "  model.eval()\n",
        "\n",
        "  with torch.no_grad():\n",
        "    for batch in test_iterator:\n",
        "      text, text_lengths= batch.text\n",
        "      text_lengths = torch.as_tensor(text_lengths, dtype=torch.int64, device='cpu')\n",
        "      prediction=model(text, text_lengths).squeeze(1)\n",
        "      prediction=torch.reshape(prediction,(len(batch.label),))\n",
        "      test_loss=test_loss+loss_function(prediction,batch.label).item()\n",
        "      #_,indices=torch.max(prediction,1)\n",
        "      #val_acc=val_acc+torch.mean(torch.tensor(batch.label == indices, dtype=torch.float))\n",
        "      test_acc=test_acc+binary_accuracy(prediction, batch.label)\n",
        "\n",
        "  test_loss=test_loss/len(test_iterator)\n",
        "  test_acc=test_acc/len(test_iterator)\n",
        "  testloss.append(float(test_loss))\n",
        "  testacc.append(float(test_acc))\n",
        "\n",
        "  end_time=time.time()\n",
        "\n",
        "  epoch_mins, epoch_secs = epoch_time(start_time, end_time)\n",
        "\n",
        "  print(f'Epoch: {epoch+1:02} | Epoch Time: {epoch_mins}m {epoch_secs}s')\n",
        "  print(f'\\tTrain Loss: {train_loss:.3f} | Train Acc: {train_acc*100:.2f}%')\n",
        "  print(f'\\t Val. Loss: {val_loss:.3f} |  Val. Acc: {val_acc*100:.2f}%')\n",
        "  print(f'\\tTest Loss: {test_loss:.3f} | Test Acc: {test_acc*100:.2f}%')\n"
      ],
      "execution_count": null,
      "outputs": []
    },
    {
      "cell_type": "code",
      "metadata": {
        "id": "dyfu4_piaEpm",
        "colab": {
          "base_uri": "https://localhost:8080/"
        },
        "outputId": "780ba20f-59f0-4e78-a988-3c6d931588b4"
      },
      "source": [
        "# This cell is used to see the final test accuracy\n",
        "test_acc=0\n",
        "test_loss=0\n",
        "model.eval()\n",
        "\n",
        "with torch.no_grad():\n",
        "  for batch in test_iterator:\n",
        "    text, text_lengths= batch.text\n",
        "    text_lengths = torch.as_tensor(text_lengths, dtype=torch.int64, device='cpu')\n",
        "    prediction=model(text, text_lengths).squeeze(1)\n",
        "    prediction=torch.reshape(prediction,(len(batch.label),))\n",
        "    test_loss=test_loss+loss_function(prediction,batch.label).item()\n",
        "    #_,indices=torch.max(prediction,1)\n",
        "    #val_acc=val_acc+torch.mean(torch.tensor(batch.label == indices, dtype=torch.float))\n",
        "    test_acc=test_acc+binary_accuracy(prediction, batch.label)\n",
        "\n",
        "test_loss=test_loss/len(test_iterator)\n",
        "test_acc=test_acc/len(test_iterator)\n",
        "testloss.append(float(test_loss))\n",
        "testacc.append(float(test_acc))\n",
        "\n",
        "end_time=time.time()\n",
        "\n",
        "epoch_mins, epoch_secs = epoch_time(start_time, end_time)\n",
        "\n",
        "print(f'Epoch: {epoch+1:02} | Epoch Time: {epoch_mins}m {epoch_secs}s')\n",
        "print(f'\\tTrain Loss: {train_loss:.3f} | Train Acc: {train_acc*100:.2f}%')\n",
        "print(f'\\t Val. Loss: {val_loss:.3f} |  Val. Acc: {val_acc*100:.2f}%')\n",
        "print(f'\\tTest Loss: {test_loss:.3f} | Testn Acc: {test_acc*100:.2f}%')\n"
      ],
      "execution_count": null,
      "outputs": [
        {
          "output_type": "stream",
          "text": [
            "Epoch: 05 | Epoch Time: 0m 8s\n",
            "\tTrain Loss: 58.013 | Train Acc: 6623.44%\n",
            "\t Val. Loss: 0.624 |  Val. Acc: 66.99%\n",
            "\tTest Loss: 0.515 | Testn Acc: 70.86%\n"
          ],
          "name": "stdout"
        }
      ]
    },
    {
      "cell_type": "code",
      "metadata": {
        "id": "sqSPweZLLkB1"
      },
      "source": [
        "import csv\n",
        "\n",
        "rows=zip(trainloss,trainacc,valloss,valacc,testacc,testloss)\n",
        "with open(\"lstm.csv\", \"w\") as f:\n",
        "    writer = csv.writer(f)\n",
        "    for row in rows:\n",
        "        writer.writerow(row)"
      ],
      "execution_count": null,
      "outputs": []
    },
    {
      "cell_type": "code",
      "metadata": {
        "id": "28-VumurfOsW"
      },
      "source": [
        "# References\n",
        "# https://github.com/bentrevett/pytorch-sentiment-analysis\n",
        "# https://pytorch.org/tutorials/beginner/nlp/sequence_models_tutorial.html"
      ],
      "execution_count": null,
      "outputs": []
    }
  ]
}