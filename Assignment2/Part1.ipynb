{
  "nbformat": 4,
  "nbformat_minor": 0,
  "metadata": {
    "colab": {
      "name": "EE782_assm_glove.ipynb",
      "provenance": [],
      "collapsed_sections": []
    },
    "kernelspec": {
      "name": "python3",
      "display_name": "Python 3"
    },
    "accelerator": "GPU"
  },
  "cells": [
    {
      "cell_type": "code",
      "metadata": {
        "id": "58CPz0eLh001"
      },
      "source": [
        "# Code Reference : https://classic.d2l.ai/chapter_natural-language-processing/similarity-analogy.html"
      ],
      "execution_count": 1,
      "outputs": []
    },
    {
      "cell_type": "code",
      "metadata": {
        "id": "EZRmVDKeh1i0",
        "colab": {
          "base_uri": "https://localhost:8080/"
        },
        "outputId": "e3243b76-dd53-449a-fe18-c3297f375dea"
      },
      "source": [
        "# Added this part to install the necessary libraries\n",
        "!pip install d2l==0.15.1\n",
        "!pip install -U mxnet-cu101==1.7.0"
      ],
      "execution_count": 2,
      "outputs": [
        {
          "output_type": "stream",
          "text": [
            "Collecting d2l==0.15.1\n",
            "\u001b[?25l  Downloading https://files.pythonhosted.org/packages/28/fd/89b6b8fd34b4e2e54fadf5de6e8f63fd96e0c14d2b6c81ba40e9edcd964a/d2l-0.15.1-py3-none-any.whl (61kB)\n",
            "\r\u001b[K     |█████▍                          | 10kB 22.7MB/s eta 0:00:01\r\u001b[K     |██████████▊                     | 20kB 15.9MB/s eta 0:00:01\r\u001b[K     |████████████████                | 30kB 14.5MB/s eta 0:00:01\r\u001b[K     |█████████████████████▍          | 40kB 14.1MB/s eta 0:00:01\r\u001b[K     |██████████████████████████▊     | 51kB 11.7MB/s eta 0:00:01\r\u001b[K     |████████████████████████████████| 61kB 5.8MB/s \n",
            "\u001b[?25hRequirement already satisfied: jupyter in /usr/local/lib/python3.6/dist-packages (from d2l==0.15.1) (1.0.0)\n",
            "Requirement already satisfied: pandas in /usr/local/lib/python3.6/dist-packages (from d2l==0.15.1) (1.1.4)\n",
            "Requirement already satisfied: numpy in /usr/local/lib/python3.6/dist-packages (from d2l==0.15.1) (1.18.5)\n",
            "Requirement already satisfied: matplotlib in /usr/local/lib/python3.6/dist-packages (from d2l==0.15.1) (3.2.2)\n",
            "Requirement already satisfied: ipywidgets in /usr/local/lib/python3.6/dist-packages (from jupyter->d2l==0.15.1) (7.5.1)\n",
            "Requirement already satisfied: jupyter-console in /usr/local/lib/python3.6/dist-packages (from jupyter->d2l==0.15.1) (5.2.0)\n",
            "Requirement already satisfied: nbconvert in /usr/local/lib/python3.6/dist-packages (from jupyter->d2l==0.15.1) (5.6.1)\n",
            "Requirement already satisfied: qtconsole in /usr/local/lib/python3.6/dist-packages (from jupyter->d2l==0.15.1) (4.7.7)\n",
            "Requirement already satisfied: ipykernel in /usr/local/lib/python3.6/dist-packages (from jupyter->d2l==0.15.1) (4.10.1)\n",
            "Requirement already satisfied: notebook in /usr/local/lib/python3.6/dist-packages (from jupyter->d2l==0.15.1) (5.3.1)\n",
            "Requirement already satisfied: pytz>=2017.2 in /usr/local/lib/python3.6/dist-packages (from pandas->d2l==0.15.1) (2018.9)\n",
            "Requirement already satisfied: python-dateutil>=2.7.3 in /usr/local/lib/python3.6/dist-packages (from pandas->d2l==0.15.1) (2.8.1)\n",
            "Requirement already satisfied: cycler>=0.10 in /usr/local/lib/python3.6/dist-packages (from matplotlib->d2l==0.15.1) (0.10.0)\n",
            "Requirement already satisfied: kiwisolver>=1.0.1 in /usr/local/lib/python3.6/dist-packages (from matplotlib->d2l==0.15.1) (1.3.1)\n",
            "Requirement already satisfied: pyparsing!=2.0.4,!=2.1.2,!=2.1.6,>=2.0.1 in /usr/local/lib/python3.6/dist-packages (from matplotlib->d2l==0.15.1) (2.4.7)\n",
            "Requirement already satisfied: widgetsnbextension~=3.5.0 in /usr/local/lib/python3.6/dist-packages (from ipywidgets->jupyter->d2l==0.15.1) (3.5.1)\n",
            "Requirement already satisfied: nbformat>=4.2.0 in /usr/local/lib/python3.6/dist-packages (from ipywidgets->jupyter->d2l==0.15.1) (5.0.8)\n",
            "Requirement already satisfied: ipython>=4.0.0; python_version >= \"3.3\" in /usr/local/lib/python3.6/dist-packages (from ipywidgets->jupyter->d2l==0.15.1) (5.5.0)\n",
            "Requirement already satisfied: traitlets>=4.3.1 in /usr/local/lib/python3.6/dist-packages (from ipywidgets->jupyter->d2l==0.15.1) (4.3.3)\n",
            "Requirement already satisfied: prompt-toolkit<2.0.0,>=1.0.0 in /usr/local/lib/python3.6/dist-packages (from jupyter-console->jupyter->d2l==0.15.1) (1.0.18)\n",
            "Requirement already satisfied: jupyter-client in /usr/local/lib/python3.6/dist-packages (from jupyter-console->jupyter->d2l==0.15.1) (5.3.5)\n",
            "Requirement already satisfied: pygments in /usr/local/lib/python3.6/dist-packages (from jupyter-console->jupyter->d2l==0.15.1) (2.6.1)\n",
            "Requirement already satisfied: jupyter-core in /usr/local/lib/python3.6/dist-packages (from nbconvert->jupyter->d2l==0.15.1) (4.6.3)\n",
            "Requirement already satisfied: testpath in /usr/local/lib/python3.6/dist-packages (from nbconvert->jupyter->d2l==0.15.1) (0.4.4)\n",
            "Requirement already satisfied: mistune<2,>=0.8.1 in /usr/local/lib/python3.6/dist-packages (from nbconvert->jupyter->d2l==0.15.1) (0.8.4)\n",
            "Requirement already satisfied: jinja2>=2.4 in /usr/local/lib/python3.6/dist-packages (from nbconvert->jupyter->d2l==0.15.1) (2.11.2)\n",
            "Requirement already satisfied: bleach in /usr/local/lib/python3.6/dist-packages (from nbconvert->jupyter->d2l==0.15.1) (3.2.1)\n",
            "Requirement already satisfied: entrypoints>=0.2.2 in /usr/local/lib/python3.6/dist-packages (from nbconvert->jupyter->d2l==0.15.1) (0.3)\n",
            "Requirement already satisfied: defusedxml in /usr/local/lib/python3.6/dist-packages (from nbconvert->jupyter->d2l==0.15.1) (0.6.0)\n",
            "Requirement already satisfied: pandocfilters>=1.4.1 in /usr/local/lib/python3.6/dist-packages (from nbconvert->jupyter->d2l==0.15.1) (1.4.3)\n",
            "Requirement already satisfied: qtpy in /usr/local/lib/python3.6/dist-packages (from qtconsole->jupyter->d2l==0.15.1) (1.9.0)\n",
            "Requirement already satisfied: pyzmq>=17.1 in /usr/local/lib/python3.6/dist-packages (from qtconsole->jupyter->d2l==0.15.1) (19.0.2)\n",
            "Requirement already satisfied: ipython-genutils in /usr/local/lib/python3.6/dist-packages (from qtconsole->jupyter->d2l==0.15.1) (0.2.0)\n",
            "Requirement already satisfied: tornado>=4.0 in /usr/local/lib/python3.6/dist-packages (from ipykernel->jupyter->d2l==0.15.1) (5.1.1)\n",
            "Requirement already satisfied: Send2Trash in /usr/local/lib/python3.6/dist-packages (from notebook->jupyter->d2l==0.15.1) (1.5.0)\n",
            "Requirement already satisfied: terminado>=0.8.1 in /usr/local/lib/python3.6/dist-packages (from notebook->jupyter->d2l==0.15.1) (0.9.1)\n",
            "Requirement already satisfied: six>=1.5 in /usr/local/lib/python3.6/dist-packages (from python-dateutil>=2.7.3->pandas->d2l==0.15.1) (1.15.0)\n",
            "Requirement already satisfied: jsonschema!=2.5.0,>=2.4 in /usr/local/lib/python3.6/dist-packages (from nbformat>=4.2.0->ipywidgets->jupyter->d2l==0.15.1) (2.6.0)\n",
            "Requirement already satisfied: pexpect; sys_platform != \"win32\" in /usr/local/lib/python3.6/dist-packages (from ipython>=4.0.0; python_version >= \"3.3\"->ipywidgets->jupyter->d2l==0.15.1) (4.8.0)\n",
            "Requirement already satisfied: setuptools>=18.5 in /usr/local/lib/python3.6/dist-packages (from ipython>=4.0.0; python_version >= \"3.3\"->ipywidgets->jupyter->d2l==0.15.1) (50.3.2)\n",
            "Requirement already satisfied: decorator in /usr/local/lib/python3.6/dist-packages (from ipython>=4.0.0; python_version >= \"3.3\"->ipywidgets->jupyter->d2l==0.15.1) (4.4.2)\n",
            "Requirement already satisfied: pickleshare in /usr/local/lib/python3.6/dist-packages (from ipython>=4.0.0; python_version >= \"3.3\"->ipywidgets->jupyter->d2l==0.15.1) (0.7.5)\n",
            "Requirement already satisfied: simplegeneric>0.8 in /usr/local/lib/python3.6/dist-packages (from ipython>=4.0.0; python_version >= \"3.3\"->ipywidgets->jupyter->d2l==0.15.1) (0.8.1)\n",
            "Requirement already satisfied: wcwidth in /usr/local/lib/python3.6/dist-packages (from prompt-toolkit<2.0.0,>=1.0.0->jupyter-console->jupyter->d2l==0.15.1) (0.2.5)\n",
            "Requirement already satisfied: MarkupSafe>=0.23 in /usr/local/lib/python3.6/dist-packages (from jinja2>=2.4->nbconvert->jupyter->d2l==0.15.1) (1.1.1)\n",
            "Requirement already satisfied: webencodings in /usr/local/lib/python3.6/dist-packages (from bleach->nbconvert->jupyter->d2l==0.15.1) (0.5.1)\n",
            "Requirement already satisfied: packaging in /usr/local/lib/python3.6/dist-packages (from bleach->nbconvert->jupyter->d2l==0.15.1) (20.4)\n",
            "Requirement already satisfied: ptyprocess; os_name != \"nt\" in /usr/local/lib/python3.6/dist-packages (from terminado>=0.8.1->notebook->jupyter->d2l==0.15.1) (0.6.0)\n",
            "Installing collected packages: d2l\n",
            "Successfully installed d2l-0.15.1\n",
            "Collecting mxnet-cu101==1.7.0\n",
            "\u001b[?25l  Downloading https://files.pythonhosted.org/packages/40/26/9655677b901537f367c3c473376e4106abc72e01a8fc25b1cb6ed9c37e8c/mxnet_cu101-1.7.0-py2.py3-none-manylinux2014_x86_64.whl (846.0MB)\n",
            "\u001b[K     |███████████████████████████████▌| 834.1MB 1.2MB/s eta 0:00:11tcmalloc: large alloc 1147494400 bytes == 0x65ac4000 @  0x7f1fceccd615 0x591e47 0x4cc179 0x4cc2db 0x50a1cc 0x50beb4 0x507be4 0x509900 0x50a2fd 0x50beb4 0x507be4 0x509900 0x50a2fd 0x50cc96 0x58e683 0x50c127 0x58e683 0x50c127 0x58e683 0x50c127 0x58e683 0x50c127 0x5095c8 0x50a2fd 0x50beb4 0x507be4 0x509900 0x50a2fd 0x50beb4 0x5095c8 0x50a2fd\n",
            "\u001b[K     |████████████████████████████████| 846.0MB 21kB/s \n",
            "\u001b[?25hRequirement already satisfied, skipping upgrade: numpy<2.0.0,>1.16.0 in /usr/local/lib/python3.6/dist-packages (from mxnet-cu101==1.7.0) (1.18.5)\n",
            "Collecting graphviz<0.9.0,>=0.8.1\n",
            "  Downloading https://files.pythonhosted.org/packages/53/39/4ab213673844e0c004bed8a0781a0721a3f6bb23eb8854ee75c236428892/graphviz-0.8.4-py2.py3-none-any.whl\n",
            "Requirement already satisfied, skipping upgrade: requests<3,>=2.20.0 in /usr/local/lib/python3.6/dist-packages (from mxnet-cu101==1.7.0) (2.23.0)\n",
            "Requirement already satisfied, skipping upgrade: idna<3,>=2.5 in /usr/local/lib/python3.6/dist-packages (from requests<3,>=2.20.0->mxnet-cu101==1.7.0) (2.10)\n",
            "Requirement already satisfied, skipping upgrade: urllib3!=1.25.0,!=1.25.1,<1.26,>=1.21.1 in /usr/local/lib/python3.6/dist-packages (from requests<3,>=2.20.0->mxnet-cu101==1.7.0) (1.24.3)\n",
            "Requirement already satisfied, skipping upgrade: certifi>=2017.4.17 in /usr/local/lib/python3.6/dist-packages (from requests<3,>=2.20.0->mxnet-cu101==1.7.0) (2020.6.20)\n",
            "Requirement already satisfied, skipping upgrade: chardet<4,>=3.0.2 in /usr/local/lib/python3.6/dist-packages (from requests<3,>=2.20.0->mxnet-cu101==1.7.0) (3.0.4)\n",
            "Installing collected packages: graphviz, mxnet-cu101\n",
            "  Found existing installation: graphviz 0.10.1\n",
            "    Uninstalling graphviz-0.10.1:\n",
            "      Successfully uninstalled graphviz-0.10.1\n",
            "Successfully installed graphviz-0.8.4 mxnet-cu101-1.7.0\n"
          ],
          "name": "stdout"
        }
      ]
    },
    {
      "cell_type": "code",
      "metadata": {
        "colab": {
          "base_uri": "https://localhost:8080/"
        },
        "id": "sdG1MOmlh4IL",
        "outputId": "bfe1d8ce-3ebb-476e-a1d7-9dbc28bd07d7"
      },
      "source": [
        "# same as given in ref\n",
        "from mxnet import nd\n",
        "from mxnet.contrib import text\n",
        "\n",
        "text.embedding.get_pretrained_file_names().keys()"
      ],
      "execution_count": 3,
      "outputs": [
        {
          "output_type": "execute_result",
          "data": {
            "text/plain": [
              "dict_keys(['glove', 'fasttext'])"
            ]
          },
          "metadata": {
            "tags": []
          },
          "execution_count": 3
        }
      ]
    },
    {
      "cell_type": "code",
      "metadata": {
        "colab": {
          "base_uri": "https://localhost:8080/"
        },
        "id": "aUfFAl6Oh6D7",
        "outputId": "ec5d25a1-563b-4017-dd6e-cd0b49af8664"
      },
      "source": [
        "# choosing various dimension models, \n",
        "glove_6b50d = text.embedding.create(\n",
        "    'glove', pretrained_file_name='glove.6B.50d.txt')\n",
        "glove_6b300d = text.embedding.create(\n",
        "    'glove', pretrained_file_name='glove.6B.300d.txt')"
      ],
      "execution_count": 5,
      "outputs": [
        {
          "output_type": "stream",
          "text": [
            "Downloading /root/.mxnet/embeddings/glove/glove.6B.zip from https://apache-mxnet.s3-accelerate.dualstack.amazonaws.com/gluon/embeddings/glove/glove.6B.zip...\n"
          ],
          "name": "stdout"
        }
      ]
    },
    {
      "cell_type": "code",
      "metadata": {
        "id": "aMRcfU7wh9pk"
      },
      "source": [
        "# same as given in ref\n",
        "# function for finding the K-nearest neighbours\n",
        "def knn(W, x, k):\n",
        "    cos = nd.dot(W, x.reshape((-1,))) / (\n",
        "        (nd.sum(W * W, axis=1) + 1e-9).sqrt() * nd.sum(x * x).sqrt())\n",
        "    topk = nd.topk(cos, k=k, ret_typ='indices').asnumpy().astype('int32')\n",
        "    return topk, [cos[i].asscalar() for i in topk]"
      ],
      "execution_count": 8,
      "outputs": []
    },
    {
      "cell_type": "code",
      "metadata": {
        "id": "_Eqk1mI2h_z7"
      },
      "source": [
        "# defined our own function to get norm l2 distance for analogy task\n",
        "def L2_dis(token_a, token_b, token_c, token_d, embed):\n",
        "    vecs = embed.get_vecs_by_tokens([token_a, token_b, token_c, token_d])\n",
        "    x1 = vecs[1] - vecs[0] + vecs[2]\n",
        "    x2 = vecs[3]\n",
        "    x = nd.norm(x1-x2)\n",
        "    return x  "
      ],
      "execution_count": 9,
      "outputs": []
    },
    {
      "cell_type": "code",
      "metadata": {
        "id": "hOTppFTCiC8b"
      },
      "source": [
        "# modified the function as given in ref to print the 5 nearest neighbours\n",
        "def get_analogy(token_a, token_b, token_c, embed):\n",
        "    vecs = embed.get_vecs_by_tokens([token_a, token_b, token_c])\n",
        "    x = vecs[1] - vecs[0] + vecs[2]\n",
        "    topk, cos = knn(embed.idx_to_vec, x, 5)\n",
        "    for i in range(5):\n",
        "      print(embed.idx_to_token[topk[i]])\n",
        "    return  "
      ],
      "execution_count": 10,
      "outputs": []
    },
    {
      "cell_type": "code",
      "metadata": {
        "colab": {
          "base_uri": "https://localhost:8080/"
        },
        "id": "gZ-g2jkhiEkt",
        "outputId": "d757cdaa-5614-48d6-ef4a-dc4ac7a63635"
      },
      "source": [
        "# This cell prints the L2 norms and the 5 nearest neighbours for the chosen examples\n",
        "print(get_analogy('man', 'woman', 'son', glove_6b50d))\n",
        "print(L2_dis('man', 'woman', 'son', 'daughter', glove_6b50d))\n",
        "\n",
        "print(get_analogy('beijing', 'china', 'tokyo', glove_6b50d))\n",
        "print(L2_dis('beijing', 'china', 'tokyo', 'japan', glove_6b50d))\n",
        "\n",
        "print(get_analogy('bad', 'worst', 'big', glove_6b50d))\n",
        "print(L2_dis('bad', 'worst', 'big', 'biggest', glove_6b50d))\n",
        "\n",
        "print(get_analogy('do', 'did', 'go', glove_6b50d))\n",
        "print(L2_dis('do', 'did', 'go', 'went', glove_6b50d))\n",
        "\n",
        "print(get_analogy('prince', 'boy', 'girl', glove_6b50d))\n",
        "print(L2_dis('prince', 'boy', 'girl', 'princess', glove_6b50d))\n",
        "\n",
        "print(get_analogy('king', 'male', 'female', glove_6b50d))\n",
        "print(L2_dis('king', 'male', 'female', 'queen', glove_6b50d))"
      ],
      "execution_count": 18,
      "outputs": [
        {
          "output_type": "stream",
          "text": [
            "daughter\n",
            "mother\n",
            "wife\n",
            "son\n",
            "niece\n",
            "None\n",
            "\n",
            "[1.5812494]\n",
            "<NDArray 1 @cpu(0)>\n",
            "japan\n",
            "tokyo\n",
            "japanese\n",
            "singapore\n",
            "shanghai\n",
            "None\n",
            "\n",
            "[2.7868757]\n",
            "<NDArray 1 @cpu(0)>\n",
            "biggest\n",
            "worst\n",
            "big\n",
            "sweep\n",
            "nation\n",
            "None\n",
            "\n",
            "[3.4864936]\n",
            "<NDArray 1 @cpu(0)>\n",
            "went\n",
            "before\n",
            "came\n",
            "when\n",
            "took\n",
            "None\n",
            "\n",
            "[1.7921385]\n",
            "<NDArray 1 @cpu(0)>\n",
            "girl\n",
            "boy\n",
            "kid\n",
            "toddler\n",
            "teen\n",
            "None\n",
            "\n",
            "[10.508645]\n",
            "<NDArray 1 @cpu(0)>\n",
            "female\n",
            "male\n",
            "bisexual\n",
            "adults\n",
            "adult\n",
            "None\n",
            "\n",
            "[11.540567]\n",
            "<NDArray 1 @cpu(0)>\n"
          ],
          "name": "stdout"
        }
      ]
    },
    {
      "cell_type": "code",
      "metadata": {
        "colab": {
          "base_uri": "https://localhost:8080/"
        },
        "id": "YI7IycEAjZd6",
        "outputId": "9ad3de08-c437-48ce-d588-59c0a11ca5eb"
      },
      "source": [
        "print(get_analogy('man', 'woman', 'son', glove_6b300d))\n",
        "print(L2_dis('man', 'woman', 'son', 'daughter', glove_6b300d))\n",
        "\n",
        "print(get_analogy('beijing', 'china', 'tokyo', glove_6b300d))\n",
        "print(L2_dis('beijing', 'china', 'tokyo', 'japan', glove_6b300d))\n",
        "\n",
        "print(get_analogy('bad', 'worst', 'big', glove_6b300d))\n",
        "print(L2_dis('bad', 'worst', 'big', 'biggest', glove_6b300d))\n",
        "\n",
        "print(get_analogy('do', 'did', 'go', glove_6b300d))\n",
        "print(L2_dis('do', 'did', 'go', 'went', glove_6b300d))\n",
        "\n",
        "print(get_analogy('prince', 'boy', 'girl', glove_6b300d))\n",
        "print(L2_dis('prince', 'boy', 'girl', 'princess', glove_6b300d))\n",
        "\n",
        "print(get_analogy('king', 'male', 'female', glove_6b300d))\n",
        "print(L2_dis('king', 'male', 'female', 'queen', glove_6b300d))"
      ],
      "execution_count": 20,
      "outputs": [
        {
          "output_type": "stream",
          "text": [
            "daughter\n",
            "son\n",
            "mother\n",
            "wife\n",
            "eldest\n",
            "None\n",
            "\n",
            "[3.9047852]\n",
            "<NDArray 1 @cpu(0)>\n",
            "tokyo\n",
            "japan\n",
            "japanese\n",
            "yen\n",
            "asia\n",
            "None\n",
            "\n",
            "[5.353972]\n",
            "<NDArray 1 @cpu(0)>\n",
            "worst\n",
            "biggest\n",
            "big\n",
            "major\n",
            "ever\n",
            "None\n",
            "\n",
            "[5.833743]\n",
            "<NDArray 1 @cpu(0)>\n",
            "went\n",
            "go\n",
            "did\n",
            "came\n",
            "gone\n",
            "None\n",
            "\n",
            "[3.7308247]\n",
            "<NDArray 1 @cpu(0)>\n",
            "girl\n",
            "boy\n",
            "girls\n",
            "teenager\n",
            "boys\n",
            "None\n",
            "\n",
            "[14.357573]\n",
            "<NDArray 1 @cpu(0)>\n",
            "female\n",
            "male\n",
            "males\n",
            "females\n",
            "women\n",
            "None\n",
            "\n",
            "[16.038239]\n",
            "<NDArray 1 @cpu(0)>\n"
          ],
          "name": "stdout"
        }
      ]
    }
  ]
}